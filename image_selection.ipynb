{
  "nbformat": 4,
  "nbformat_minor": 0,
  "metadata": {
    "colab": {
      "provenance": [],
      "gpuType": "T4",
      "authorship_tag": "ABX9TyPBF58PJCWxlH4eLBMiaCVt",
      "include_colab_link": true
    },
    "kernelspec": {
      "name": "python3",
      "display_name": "Python 3"
    },
    "language_info": {
      "name": "python"
    },
    "accelerator": "GPU"
  },
  "cells": [
    {
      "cell_type": "markdown",
      "metadata": {
        "id": "view-in-github",
        "colab_type": "text"
      },
      "source": [
        "<a href=\"https://colab.research.google.com/github/dmosh/cvexam/blob/main/image_selection.ipynb\" target=\"_parent\"><img src=\"https://colab.research.google.com/assets/colab-badge.svg\" alt=\"Open In Colab\"/></a>"
      ]
    },
    {
      "cell_type": "code",
      "execution_count": null,
      "metadata": {
        "colab": {
          "base_uri": "https://localhost:8080/"
        },
        "id": "-Tv9Zo-EdabR",
        "outputId": "2286a285-2d33-4a5a-ff6f-877e7a8b3116"
      },
      "outputs": [
        {
          "output_type": "stream",
          "name": "stdout",
          "text": [
            "Mounted at /content/drive\n"
          ]
        }
      ],
      "source": [
        "# mounting the drive to read the files\n",
        "from google.colab import drive\n",
        "drive.mount('/content/drive')"
      ]
    },
    {
      "cell_type": "code",
      "source": [
        "import os\n",
        "import random\n",
        "import shutil\n",
        "import cv2\n",
        "from skimage.metrics import structural_similarity as ssim\n",
        "import cupy as cp\n",
        "from multiprocessing import Pool, cpu_count"
      ],
      "metadata": {
        "id": "pstYbcykdd9d"
      },
      "execution_count": null,
      "outputs": []
    },
    {
      "cell_type": "code",
      "source": [
        "source_folder = '/content/drive/MyDrive/Colab Notebooks/CV/output/frames/'\n",
        "output_folder = '/content/drive/MyDrive/Colab Notebooks/CV/output/selected/'\n",
        "num_frames_to_select = 300\n",
        "jump_interval = 20\n",
        "\n",
        "# Get a list of all the extracted frames\n",
        "all_frames = os.listdir(source_folder)\n",
        "\n",
        "# Select frames at the specified interval\n",
        "selected_frames = []\n",
        "for i in range(0, len(all_frames), jump_interval):\n",
        "    if len(selected_frames) >= num_frames_to_select:\n",
        "        break\n",
        "    selected_frames.append(all_frames[i])\n",
        "\n",
        "# Create the output folder if it doesn't exist\n",
        "os.makedirs(output_folder, exist_ok=True)\n",
        "\n",
        "# Copy the selected frames to the output folder\n",
        "for frame in selected_frames:\n",
        "    source_path = os.path.join(source_folder, frame)\n",
        "    output_path = os.path.join(output_folder, frame)\n",
        "    shutil.copyfile(source_path, output_path)\n",
        "\n",
        "print(\"Frame selection completed.\")\n"
      ],
      "metadata": {
        "colab": {
          "base_uri": "https://localhost:8080/"
        },
        "id": "C3iLLIiydjZl",
        "outputId": "3229d8a8-ba06-41fc-fc4c-1dd7191a7d77"
      },
      "execution_count": null,
      "outputs": [
        {
          "output_type": "stream",
          "name": "stdout",
          "text": [
            "Frame selection completed.\n"
          ]
        }
      ]
    }
  ]
}