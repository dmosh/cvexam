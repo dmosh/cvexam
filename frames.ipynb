{
  "nbformat": 4,
  "nbformat_minor": 0,
  "metadata": {
    "colab": {
      "provenance": [],
      "authorship_tag": "ABX9TyOtKNG3Mtd7metYsrLAvagc",
      "include_colab_link": true
    },
    "kernelspec": {
      "name": "python3",
      "display_name": "Python 3"
    },
    "language_info": {
      "name": "python"
    }
  },
  "cells": [
    {
      "cell_type": "markdown",
      "metadata": {
        "id": "view-in-github",
        "colab_type": "text"
      },
      "source": [
        "<a href=\"https://colab.research.google.com/github/dmosh/cvexam/blob/main/frames.ipynb\" target=\"_parent\"><img src=\"https://colab.research.google.com/assets/colab-badge.svg\" alt=\"Open In Colab\"/></a>"
      ]
    },
    {
      "cell_type": "code",
      "source": [
        "# mounting the drive to read the files\n",
        "from google.colab import drive\n",
        "drive.mount('/content/drive')"
      ],
      "metadata": {
        "colab": {
          "base_uri": "https://localhost:8080/"
        },
        "id": "9e-PJaVYbEyS",
        "outputId": "380183dc-9c2d-40a6-f725-9559bb11d963"
      },
      "execution_count": null,
      "outputs": [
        {
          "output_type": "stream",
          "name": "stdout",
          "text": [
            "Mounted at /content/drive\n"
          ]
        }
      ]
    },
    {
      "cell_type": "code",
      "execution_count": null,
      "metadata": {
        "id": "jYqReop6aMSl"
      },
      "outputs": [],
      "source": [
        "import cv2"
      ]
    },
    {
      "cell_type": "code",
      "source": [
        "video_path = '/content/drive/MyDrive/Colab Notebooks/CV/dataset/Garden Video.mp4'\n",
        "output_path = '/content/drive/MyDrive/Colab Notebooks/CV/output/frames/'\n",
        "\n",
        "target_width = 640  # Set the desired width\n",
        "target_height = 720  # Set the desired height\n",
        "\n",
        "video_capture = cv2.VideoCapture(video_path)\n",
        "success, frame = video_capture.read()\n",
        "count = 0\n",
        "\n",
        "video_capture = cv2.VideoCapture(video_path)\n",
        "success, frame = video_capture.read()\n",
        "count = 0\n",
        "\n",
        "while success:\n",
        "    # Resize the frame to the target width and height\n",
        "    resized_frame = cv2.resize(frame, (target_width, target_height))\n",
        "\n",
        "    # Save the resized frame as an image\n",
        "    cv2.imwrite(output_path + f\"frame_{count}.jpg\", resized_frame)\n",
        "\n",
        "    # Read the next frame\n",
        "    success, frame = video_capture.read()\n",
        "    count += 1\n",
        "\n",
        "video_capture.release()"
      ],
      "metadata": {
        "id": "nLs2dzH3aj3k"
      },
      "execution_count": null,
      "outputs": []
    },
    {
      "cell_type": "code",
      "source": [
        "#Generate dataset for training DL model\n",
        "\n",
        "video_path = '/content/drive/MyDrive/Colab Notebooks/CV/dataset/Garden Video.mp4'\n",
        "output_path = '/content/drive/MyDrive/Colab Notebooks/CV/dataset/annotated/dl data/'\n",
        "\n",
        "desired_num_frames = 500\n",
        "\n",
        "video_capture = cv2.VideoCapture(video_path)\n",
        "success, frame = video_capture.read()\n",
        "count = 0\n",
        "total_frames = int(video_capture.get(cv2.CAP_PROP_FRAME_COUNT))\n",
        "\n",
        "# Calculate the frame skip interval\n",
        "skip_interval = max(1, total_frames // desired_num_frames)\n",
        "\n",
        "while success and count < desired_num_frames:\n",
        "    # Save the frame as an image\n",
        "    cv2.imwrite(output_path + f\"frame_{count}.jpg\", frame)\n",
        "\n",
        "    # Skip frames to achieve desired number of frames\n",
        "    for _ in range(skip_interval):\n",
        "        success, frame = video_capture.read()\n",
        "\n",
        "    count += 1\n",
        "\n",
        "video_capture.release()\n"
      ],
      "metadata": {
        "id": "spGM7pCNomr7"
      },
      "execution_count": null,
      "outputs": []
    }
  ]
}